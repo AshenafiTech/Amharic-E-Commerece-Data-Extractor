{
 "cells": [
  {
   "cell_type": "markdown",
   "id": "b1ac6f9a",
   "metadata": {},
   "source": [
    "# Data Preprocessing\n",
    "\n",
    "This notebook covers the preprocessing of raw Amharic e-commerce messages collected from Telegram channels. Steps include loading the data, cleaning, normalization, tokenization, and preparation for entity extraction."
   ]
  },
  {
   "cell_type": "markdown",
   "id": "c6e273fd",
   "metadata": {},
   "source": [
    "## 1. Load Raw Data\n",
    "\n",
    "We begin by loading the raw messages collected from Telegram channels. The data is stored in JSON and CSV formats."
   ]
  },
  {
   "cell_type": "code",
   "execution_count": null,
   "id": "e263b1cc",
   "metadata": {},
   "outputs": [],
   "source": [
    "import pandas as pd\n",
    "import json\n",
    "\n",
    "# Load from JSON\n",
    "with open('../data/raw/telegram_data.json', encoding='utf-8') as f:\n",
    "    raw_data = json.load(f)\n",
    "\n",
    "# Or load from CSV\n",
    "raw_df = pd.read_csv('../data/raw/telegram_data.csv', encoding='utf-8-sig')\n",
    "\n",
    "# Display a sample\n",
    "raw_df.head()"
   ]
  },
  {
   "cell_type": "markdown",
   "id": "ccc8ce88",
   "metadata": {},
   "source": [
    "## 2. Text Normalization and Cleaning\n",
    "\n",
    "We normalize Amharic text by removing unwanted characters, extra spaces, and standardizing punctuation."
   ]
  },
  {
   "cell_type": "code",
   "execution_count": null,
   "id": "7cc8da4d",
   "metadata": {},
   "outputs": [],
   "source": [
    "import re\n",
    "\n",
    "def normalize_amharic_text(text):\n",
    "    if not isinstance(text, str):\n",
    "        return \"\"\n",
    "    text = text.replace('\\n', ' ').replace('\\r', ' ')\n",
    "    text = re.sub(r'[፡።:]', ' ', text)\n",
    "    text = re.sub(r'\\s+', ' ', text)\n",
    "    return text.strip()\n",
    "\n",
    "raw_df['cleaned_message'] = raw_df['message'].apply(normalize_amharic_text)\n",
    "raw_df[['message', 'cleaned_message']].head()"
   ]
  },
  {
   "cell_type": "markdown",
   "id": "9d720373",
   "metadata": {},
   "source": [
    "## 3. Tokenization and Amharic-Specific Processing\n",
    "\n",
    "We tokenize the cleaned text and handle Amharic-specific linguistic features. For demonstration, we use simple whitespace tokenization."
   ]
  },
  {
   "cell_type": "code",
   "execution_count": null,
   "id": "f3b4ff07",
   "metadata": {},
   "outputs": [],
   "source": [
    "# Simple whitespace tokenization\n",
    "def tokenize_amharic(text):\n",
    "    return text.split()\n",
    "\n",
    "raw_df['tokens'] = raw_df['cleaned_message'].apply(tokenize_amharic)\n",
    "raw_df[['cleaned_message', 'tokens']].head()"
   ]
  },
  {
   "cell_type": "markdown",
   "id": "0b530ee2",
   "metadata": {},
   "source": [
    "## 4. Save Preprocessed Data\n",
    "\n",
    "We save the cleaned and tokenized data for use in entity extraction and further analysis."
   ]
  },
  {
   "cell_type": "code",
   "execution_count": null,
   "id": "aa8d750e",
   "metadata": {},
   "outputs": [],
   "source": [
    "import os\n",
    "os.makedirs('../data/processed', exist_ok=True)\n",
    "raw_df.to_csv('../data/processed/cleaned_messages.csv', index=False, encoding='utf-8-sig')\n",
    "raw_df.to_json('../data/processed/cleaned_messages.json', orient='records', force_ascii=False)\n",
    "print('Preprocessed data saved.')"
   ]
  },
  {
   "cell_type": "markdown",
   "id": "482dd91c",
   "metadata": {},
   "source": [
    "## 5. Summary\n",
    "\n",
    "- Loaded raw Telegram e-commerce messages.\n",
    "- Cleaned and normalized Amharic text.\n",
    "- Tokenized messages for downstream NLP tasks.\n",
    "- Saved preprocessed data for further analysis and entity extraction."
   ]
  }
 ],
 "metadata": {
  "language_info": {
   "name": "python"
  }
 },
 "nbformat": 4,
 "nbformat_minor": 5
}
