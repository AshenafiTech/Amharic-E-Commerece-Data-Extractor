{
 "cells": [
  {
   "cell_type": "markdown",
   "id": "0ab15dbd",
   "metadata": {},
   "source": [
    "# Task 6: FinTech Vendor Scorecard for Micro-Lending\n",
    "\n",
    "In this task, we develop a Vendor Analytics Engine to score vendors for micro-lending opportunities. We combine NER-extracted entities and Telegram post metadata to calculate key business metrics and a final Lending Score for each vendor."
   ]
  },
  {
   "cell_type": "markdown",
   "id": "51f911c1",
   "metadata": {},
   "source": [
    "## Key Vendor Metrics\n",
    "- **Posting Frequency:** Average number of posts per week\n",
    "- **Average Views per Post:** Indicator of market reach\n",
    "- **Top Performing Post:** Highest view count, product, and price\n",
    "- **Average Price Point:** Business profile from NER\n",
    "- **Lending Score:** Weighted combination of metrics"
   ]
  },
  {
   "cell_type": "code",
   "execution_count": null,
   "id": "dd8ed183",
   "metadata": {},
   "outputs": [],
   "source": [
    "import pandas as pd\n",
    "import numpy as np\n",
    "from datetime import datetime\n",
    "\n",
    "# Load processed data (assume cleaned_messages.csv contains all posts with NER results)\n",
    "df = pd.read_csv('../data/processed/cleaned_messages.csv', encoding='utf-8-sig')\n",
    "df['timestamp'] = pd.to_datetime(df['timestamp'])\n",
    "df.head()"
   ]
  },
  {
   "cell_type": "code",
   "execution_count": null,
   "id": "14ad53f2",
   "metadata": {},
   "outputs": [],
   "source": [
    "import re\n",
    "\n",
    "def extract_price(text):\n",
    "    # Simple regex to extract price (e.g., 1000 ብር)\n",
    "    match = re.search(r'(\\d+[\\,\\.]?\\d*)\\s*ብር', str(text))\n",
    "    if match:\n",
    "        return float(match.group(1).replace(',', ''))\n",
    "    return np.nan\n",
    "\n",
    "def vendor_metrics(df, vendor):\n",
    "    vendor_df = df[df['channel'] == vendor].copy()\n",
    "    vendor_df = vendor_df.sort_values('timestamp')\n",
    "    # Posting frequency (posts per week)\n",
    "    if len(vendor_df) > 1:\n",
    "        weeks = (vendor_df['timestamp'].max() - vendor_df['timestamp'].min()).days / 7\n",
    "        posting_freq = len(vendor_df) / weeks if weeks > 0 else len(vendor_df)\n",
    "    else:\n",
    "        posting_freq = len(vendor_df)\n",
    "    # Average views\n",
    "    avg_views = vendor_df['views'].mean()\n",
    "    # Top performing post\n",
    "    top_post = vendor_df.loc[vendor_df['views'].idxmax()]\n",
    "    top_product = top_post['message']\n",
    "    top_price = extract_price(top_post['message'])\n",
    "    # Average price point\n",
    "    vendor_df['price'] = vendor_df['message'].apply(extract_price)\n",
    "    avg_price = vendor_df['price'].mean()\n",
    "    return {\n",
    "        'posting_freq': posting_freq,\n",
    "        'avg_views': avg_views,\n",
    "        'top_product': top_product,\n",
    "        'top_price': top_price,\n",
    "        'avg_price': avg_price\n",
    "    }"
   ]
  },
  {
   "cell_type": "code",
   "execution_count": null,
   "id": "43e096bc",
   "metadata": {},
   "outputs": [],
   "source": [
    "# Calculate metrics and lending scores for all vendors\n",
    "vendors = df['channel'].unique()\n",
    "results = []\n",
    "for vendor in vendors:\n",
    "    metrics = vendor_metrics(df, vendor)\n",
    "    # Example lending score: 0.5*avg_views + 0.5*posting_freq\n",
    "    lending_score = 0.5 * (metrics['avg_views'] or 0) + 0.5 * (metrics['posting_freq'] or 0)\n",
    "    metrics['vendor'] = vendor\n",
    "    metrics['lending_score'] = lending_score\n",
    "    results.append(metrics)\n",
    "\n",
    "results_df = pd.DataFrame(results)\n",
    "results_df = results_df.sort_values(by='lending_score', ascending=False)\n",
    "display(results_df[['vendor', 'posting_freq', 'avg_views', 'avg_price', 'lending_score', 'top_product', 'top_price']])"
   ]
  },
  {
   "cell_type": "markdown",
   "id": "062b7230",
   "metadata": {},
   "source": [
    "## Summary\n",
    "\n",
    "- Calculated key business and engagement metrics for each vendor\n",
    "- Combined metrics into a simple Lending Score\n",
    "- The scorecard helps EthioMart identify promising vendors for micro-lending\n",
    "\n",
    "You can adjust metric weights or add more features for a more sophisticated scorecard."
   ]
  }
 ],
 "metadata": {
  "language_info": {
   "name": "python"
  }
 },
 "nbformat": 4,
 "nbformat_minor": 5
}
