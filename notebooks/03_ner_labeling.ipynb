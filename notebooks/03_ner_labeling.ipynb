{
 "cells": [
  {
   "cell_type": "markdown",
   "id": "5921b628",
   "metadata": {},
   "source": [
    "# Task 2: Label a Subset of Dataset in CoNLL Format\n",
    "\n",
    "In this task, we will label a subset of Amharic e-commerce messages for Named Entity Recognition (NER) using the CoNLL format. Entities include products, prices, and locations. The labeled data will be saved in a plain text file for use in NER model training."
   ]
  },
  {
   "cell_type": "markdown",
   "id": "7edc9913",
   "metadata": {},
   "source": [
    "## CoNLL Format and Entity Types\n",
    "\n",
    "- Each token is labeled on its own line, followed by its entity label.\n",
    "- Blank lines separate individual messages.\n",
    "\n",
    "**Entity Types:**\n",
    "- B-Product, I-Product: Product entities\n",
    "- B-LOC, I-LOC: Location entities\n",
    "- B-PRICE, I-PRICE: Price entities\n",
    "- O: Outside any entity"
   ]
  },
  {
   "cell_type": "code",
   "execution_count": null,
   "id": "6963ce5f",
   "metadata": {},
   "outputs": [],
   "source": [
    "import pandas as pd\n",
    "\n",
    "# Load the cleaned messages\n",
    "df = pd.read_csv('../data/processed/cleaned_messages.csv', encoding='utf-8-sig')\n",
    "df = df.dropna(subset=['message'])\n",
    "df = df.head(50)  # Select 50 messages for labeling\n",
    "df['message'].head()"
   ]
  },
  {
   "cell_type": "markdown",
   "id": "746e6944",
   "metadata": {},
   "source": [
    "## Manual Annotation Process\n",
    "\n",
    "For each message, tokenize the text and assign entity labels according to the CoNLL format. This can be done by iterating through each message and labeling tokens as B-Product, I-Product, B-LOC, I-LOC, B-PRICE, I-PRICE, or O."
   ]
  },
  {
   "cell_type": "code",
   "execution_count": null,
   "id": "df0f2443",
   "metadata": {},
   "outputs": [],
   "source": [
    "def label_message_conll(message, entities):\n",
    "    \"\"\"\n",
    "    message: str, the message text\n",
    "    entities: list of tuples (start_idx, end_idx, label), where label is one of 'Product', 'LOC', 'PRICE'\n",
    "    Returns: list of (token, label)\n",
    "    \"\"\"\n",
    "    tokens = message.split()\n",
    "    labels = ['O'] * len(tokens)\n",
    "    for start, end, ent_type in entities:\n",
    "        if start < len(tokens):\n",
    "            labels[start] = f'B-{ent_type}'\n",
    "            for i in range(start+1, min(end+1, len(tokens))):\n",
    "                labels[i] = f'I-{ent_type}'\n",
    "    return list(zip(tokens, labels))\n",
    "\n",
    "# Example usage for one message (manual annotation):\n",
    "example_message = df['message'].iloc[0]\n",
    "# Example: label first two tokens as Product, next two as LOC, next two as PRICE\n",
    "entities = [(0, 1, 'Product'), (2, 3, 'LOC'), (4, 5, 'PRICE')]\n",
    "labeled = label_message_conll(example_message, entities)\n",
    "for token, label in labeled:\n",
    "    print(f\"{token} {label}\")"
   ]
  },
  {
   "cell_type": "code",
   "execution_count": null,
   "id": "43be3cf4",
   "metadata": {},
   "outputs": [],
   "source": [
    "def export_conll(labeled_messages, filepath):\n",
    "    with open(filepath, 'w', encoding='utf-8') as f:\n",
    "        for message in labeled_messages:\n",
    "            for token, label in message:\n",
    "                f.write(f\"{token} {label}\\n\")\n",
    "            f.write(\"\\n\")\n",
    "\n",
    "# Example: Save a few manually labeled messages\n",
    "labeled_messages = [\n",
    "    label_message_conll(df['message'].iloc[0], [(0, 1, 'Product'), (2, 3, 'LOC'), (4, 5, 'PRICE')]),\n",
    "    # Add more labeled messages here\n",
    "]\n",
    "export_conll(labeled_messages, '../data/conll/labeled_subset.conll')"
   ]
  },
  {
   "cell_type": "markdown",
   "id": "7b5c2f74",
   "metadata": {},
   "source": [
    "## Summary\n",
    "\n",
    "- Loaded a subset of messages for annotation.\n",
    "- Provided a template for manual or semi-automatic labeling in CoNLL format.\n",
    "- Labeled data can now be used for NER model training and evaluation."
   ]
  }
 ],
 "metadata": {
  "language_info": {
   "name": "python"
  }
 },
 "nbformat": 4,
 "nbformat_minor": 5
}
